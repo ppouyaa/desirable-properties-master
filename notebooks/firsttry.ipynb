{
 "cells": [
  {
   "cell_type": "markdown",
   "metadata": {},
   "source": [
    "# DTLZ 2:\n",
    "Here we show that RVEA works better if we have limited function evaluations (5000 in this case) for dtlz ."
   ]
  },
  {
   "cell_type": "markdown",
   "metadata": {},
   "source": [
    "# DTLZ 7\n",
    "Here we show that even tho NSGAIII finds more solutions the few solutions that RVEA finds are better (hopefully have not checked numbers yet)"
   ]
  },
  {
   "cell_type": "markdown",
   "metadata": {},
   "source": [
    "## Optimization process\n"
   ]
  },
  {
   "cell_type": "code",
   "execution_count": 16,
   "metadata": {},
   "outputs": [
    {
     "name": "stdout",
     "output_type": "stream",
     "text": [
      "Running iteration 1\n",
      "Running iteration 2\n",
      "Running iteration 3\n",
      "Running iteration 4\n"
     ]
    }
   ],
   "source": [
    "import numpy as np\n",
    "import pandas as pd\n",
    "import math\n",
    "\n",
    "\n",
    "import random\n",
    "import scipy\n",
    "\n",
    "from desdeo_tools.utilities.pmod import get_pmod\n",
    "from desdeo_tools.utilities.pmda import get_pmda\n",
    "import ehmetric as eh\n",
    "from desdeo_tools.utilities.rmetric import RMetric\n",
    "\n",
    "\n",
    "\n",
    "from sklearn.ensemble import RandomForestClassifier\n",
    "from sklearn.model_selection import train_test_split\n",
    "from desdeo_problem import variable_builder, MOProblem, VectorObjective\n",
    "from desdeo_problem.testproblems.TestProblems import test_problem_builder\n",
    "from sklearn.preprocessing import Normalizer\n",
    "from desdeo_emo.EAs import NSGAIII, RVEA, IOPIS_RVEA, IOPIS_NSGAIII, IBEA\n",
    "\n",
    "from desdeo_emo.utilities import animate_init_, animate_next_\n",
    "\n",
    "refpoints_dtlz2_l = [[0.10, 0.10, 0.94],[0.10, 0.94, 0.10],  [0.94, 0.10, 0.10], [0.7,0.6,0.55] ]\n",
    "refpoints_dtlz2_d = [[0.20, 0.20, 0.85],[0.15, 0.25, 0.83],  [0.18, 0.22, 0.80], [0.23,0.25,0.75] ]\n",
    "\n",
    "refpoints_dtlz7 = [[0.11, 0.10, 5.4 ],[0.70, 0.14, 4.50],  [0.76, 0.76, 3.5], [0.14, 0.70, 4.5] ]\n",
    "\n",
    "refpoints = refpoints_dtlz7\n",
    "minimization = [True]*3 # for eh-metric\n",
    "rvea_solutions = []\n",
    "nsga_solutions = []\n",
    "RP = []\n",
    "n_interactions = 4\n",
    "n_obj = 3\n",
    "n_var = 8\n",
    "name = \"DTLZ7\"\n",
    "problem = test_problem_builder(\n",
    "    name=name, n_of_objectives=n_obj, n_of_variables=n_var\n",
    "    )\n",
    "evolver_rvea = RVEA(problem, n_gen_per_iter=9000, n_iterations=1, interact=True, total_function_evaluations= 500000 )#total_function_evaluations= 9000000\n",
    "evolver_nsga = NSGAIII(problem, n_gen_per_iter=9000, n_iterations=1, interact=True, total_function_evaluations= 500000) #total_function_evaluations= 600000\n",
    "evolver_rvea.translation_param = 0.1\n",
    "evolver_nsga.translation_param = 0.1\n",
    "\n",
    "\n",
    "#evolver_nsga = IOPIS_RVEA(problem, n_gen_per_iter=500, n_iterations=1)\n",
    "problem.ideal = np.asarray([0] * n_obj)\n",
    "problem.ideal_fitness = problem.ideal\n",
    "problem.nadir = abs(np.random.normal(size=n_obj, scale=0.15)) + 1\n",
    "\n",
    "non_dominated = evolver_rvea.population.non_dominated_fitness()\n",
    "\n",
    "for i in range(n_interactions):\n",
    "    pref_rvea, plot_rvea = evolver_rvea.requests()\n",
    "    pref_rvea[2].response = pd.DataFrame(\n",
    "    [refpoints[i]], columns=pref_rvea[2].content[\"dimensions_data\"].columns\n",
    "    )\n",
    "    pref_nsga, plot_nsga = evolver_nsga.requests()\n",
    "    pref_nsga[2].response = pd.DataFrame(\n",
    "    [refpoints[i]], columns=pref_nsga[2].content[\"dimensions_data\"].columns\n",
    "    )\n",
    "    print(f\"Running iteration {evolver_rvea._iteration_counter+1}\")\n",
    "    evolver_rvea.iterate(pref_rvea[2])\n",
    "    evolver_nsga.iterate(pref_nsga[2]) #\n",
    "\n",
    "    non_dominated_rvea = evolver_rvea.population.non_dominated_fitness()\n",
    "    rvea_results = evolver_rvea.population.objectives[non_dominated_rvea]\n",
    "    rvea_solutions.append(rvea_results)\n",
    "\n",
    "    non_dominated_nsga = evolver_nsga.population.non_dominated_fitness()\n",
    "    nsga_results = evolver_nsga.population.objectives[non_dominated_nsga]\n",
    "    nsga_solutions.append(nsga_results)\n",
    "    \n",
    "    \n"
   ]
  },
  {
   "cell_type": "markdown",
   "metadata": {},
   "source": [
    "# Visualization\n"
   ]
  },
  {
   "cell_type": "code",
   "execution_count": 17,
   "metadata": {},
   "outputs": [
    {
     "name": "stdout",
     "output_type": "stream",
     "text": [
      "Plot saved as:  RVEAwDTLZ7.html\n",
      "View the plot by opening the file in browser.\n",
      "To view the plot in Jupyter Notebook, use the IFrame command.\n",
      "Plot saved as:  NSGADTLZ7.html\n",
      "View the plot by opening the file in browser.\n",
      "To view the plot in Jupyter Notebook, use the IFrame command.\n"
     ]
    }
   ],
   "source": [
    "figure_rvea = animate_init_(np.vstack((rvea_solutions[0],[1,1,1],[0,0,0])), filename=\"RVEAw\"+name+\".html\")\n",
    "figure_nsga = animate_init_(np.vstack((nsga_solutions[0],[1,1,1],[0,0,0])), filename=\"NSGA\"+name+\".html\")\n",
    "\n",
    "\n",
    "for i in range(n_interactions-1):\n",
    "    figure_rvea = animate_next_(\n",
    "            np.vstack((rvea_solutions[i+1], [1,1,1],[0,0,0])),\n",
    "            figure_rvea,\n",
    "            filename=\"RVEAw\"+name+\".html\",\n",
    "            generation=i+1,\n",
    "        )\n",
    "    figure_nsga = animate_next_(\n",
    "            np.vstack((nsga_solutions[i+1], [1,1,1],[0,0,0])),\n",
    "            figure_nsga,\n",
    "            filename=\"NSGA\"+name+\".html\",\n",
    "            generation=i+1,\n",
    "        )"
   ]
  },
  {
   "cell_type": "markdown",
   "metadata": {},
   "source": [
    "# Calculating some indicators\n"
   ]
  },
  {
   "cell_type": "code",
   "execution_count": 18,
   "metadata": {},
   "outputs": [
    {
     "name": "stdout",
     "output_type": "stream",
     "text": [
      "this is [RVEA, NSGA] pmod: [7.207091431367422, 8.492941864763017]\n",
      "this is [RVEA, NSGA] pmda: [5.018327315675995, 5.1463794053182905]\n",
      "this is [RVEA, NSGA] EH-metric: [0.5947475709396998, 0.5607587596564947]\n",
      "0.3\n",
      "0.3\n",
      "this is [RVEA, NSGA] R-metric: [6.396843885151569, 5.483814602152633]\n",
      "this is [RVEA, NSGA] pmod: [6.064590701447224, 6.657404230196969]\n",
      "this is [RVEA, NSGA] pmda: [4.160659642655274, 5.345358836460281]\n",
      "this is [RVEA, NSGA] EH-metric: [0.5607275891777852, 0.1481670679993911]\n",
      "0.3\n",
      "0.3\n",
      "this is [RVEA, NSGA] R-metric: [5.794201434170516, 4.64143296622607]\n",
      "this is [RVEA, NSGA] pmod: [5.652751812489431, 5.820982812144769]\n",
      "this is [RVEA, NSGA] pmda: [3.1327027615138165, 5.503932331862365]\n",
      "this is [RVEA, NSGA] EH-metric: [0.7924644009480966, 0.08458677057196963]\n",
      "0.3\n",
      "0.3\n",
      "this is [RVEA, NSGA] R-metric: [7.879406392542516, 2.448471961247534]\n",
      "this is [RVEA, NSGA] pmod: [6.0590784898144765, 6.471368924247487]\n",
      "this is [RVEA, NSGA] pmda: [4.160836256490222, 5.430578831544197]\n",
      "this is [RVEA, NSGA] EH-metric: [0.560568724033298, 0.11241854849548913]\n",
      "0.3\n",
      "0.3\n",
      "this is [RVEA, NSGA] R-metric: [5.795279208507245, 3.303203340520923]\n"
     ]
    }
   ],
   "source": [
    "for i in range(n_interactions):\n",
    "    \n",
    "\n",
    "    print(\"this is [RVEA, NSGA] pmod:\", [get_pmod(refpoints[i],rvea_solutions[i],0.1,2), get_pmod(refpoints[i],nsga_solutions[i],0.1,2)])\n",
    "    print(\"this is [RVEA, NSGA] pmda:\", [get_pmda(refpoints[i],rvea_solutions[i],3,0.5,0.01), get_pmda(refpoints[i],nsga_solutions[i],3,0.5,0.01)])\n",
    "    \n",
    "\n",
    "    #R-metric EH-metric\n",
    "    #normalization\n",
    "    _max = np.max(np.vstack((rvea_solutions[i],nsga_solutions[i], refpoints[i])) , axis= 0)\n",
    "    _min = np.min(np.vstack((rvea_solutions[i],nsga_solutions[i], refpoints[i])) , axis= 0)\n",
    "    norm_rvea = (rvea_solutions[i] - _min)/ (_max - _min)\n",
    "    norm_nsga = (nsga_solutions[i] - _min)/ (_max - _min)\n",
    "    norm_RP = (refpoints[i] - _min)/ (_max - _min)\n",
    "\n",
    "    areas, steps = eh.RunEHMetric([pd.DataFrame(norm_rvea), pd.DataFrame(norm_nsga)], norm_RP, minimization)\n",
    "    print(\"this is [RVEA, NSGA] EH-metric:\", areas)\n",
    "    rmetric_rvea = RMetric(problem, norm_RP, delta =0.3).calc(F = norm_rvea, others = norm_nsga)\n",
    "    rmetric_nsga = RMetric(problem, norm_RP, delta = 0.3).calc(F = norm_nsga, others = norm_rvea)\n",
    "    print(\"this is [RVEA, NSGA] R-metric:\", [rmetric_rvea[1], rmetric_nsga[1]])\n"
   ]
  },
  {
   "cell_type": "code",
   "execution_count": 20,
   "metadata": {},
   "outputs": [],
   "source": [
    "np.savetxt(\"NS_dtlz7_3_in1.csv\",nsga_solutions[0], delimiter=\",\")\n",
    "np.savetxt(\"NS_dtlz7_3_in2.csv\",nsga_solutions[1], delimiter=\",\")\n",
    "np.savetxt(\"NS_dtlz7_3_in3.csv\",nsga_solutions[2], delimiter=\",\")\n",
    "np.savetxt(\"NS_dtlz7_3_in4.csv\",nsga_solutions[3], delimiter=\",\")"
   ]
  },
  {
   "cell_type": "markdown",
   "metadata": {},
   "source": [
    "# second experiment\n",
    "\n",
    "Here we increase the size of region of interest untill we have 10 solutions only then we calculate each metric"
   ]
  },
  {
   "cell_type": "code",
   "execution_count": null,
   "metadata": {},
   "outputs": [],
   "source": []
  },
  {
   "cell_type": "markdown",
   "metadata": {},
   "source": []
  },
  {
   "cell_type": "code",
   "execution_count": null,
   "metadata": {},
   "outputs": [],
   "source": []
  }
 ],
 "metadata": {
  "interpreter": {
   "hash": "9fdbf64366ebd3df39fc7d0be047ce2916c7a32355dcda42438e5a33ecbf53d1"
  },
  "kernelspec": {
   "display_name": "ibm",
   "language": "python",
   "name": "python3"
  },
  "language_info": {
   "codemirror_mode": {
    "name": "ipython",
    "version": 3
   },
   "file_extension": ".py",
   "mimetype": "text/x-python",
   "name": "python",
   "nbconvert_exporter": "python",
   "pygments_lexer": "ipython3",
   "version": "3.7.12"
  }
 },
 "nbformat": 4,
 "nbformat_minor": 4
}
