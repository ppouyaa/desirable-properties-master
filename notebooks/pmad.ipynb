{
 "cells": [
  {
   "cell_type": "markdown",
   "id": "40ff6db4",
   "metadata": {},
   "source": [
    "<h1> Step 1 : Decompose the information of the reference point.</h1>"
   ]
  },
  {
   "cell_type": "code",
   "execution_count": 2,
   "id": "f6a211a4",
   "metadata": {},
   "outputs": [],
   "source": [
    "import numpy as np\n",
    "import math\n",
    "\n",
    "\n",
    "\n",
    "\n",
    "\n",
    "def intersection_with_axes(number):\n",
    "    \"\"\"\n",
    "    :param number: Number of objectives : <int>\n",
    "    :return: Plan intersection with axes : <list<np.arrays>>\n",
    "    \"\"\"\n",
    "    i = []\n",
    "    for j in range(number):\n",
    "        array_of_zeros = np.zeros(number)\n",
    "        array_of_zeros[j] = 1\n",
    "        i.append(array_of_zeros)\n",
    "    return i\n",
    "\n",
    "\n",
    "def get_mapping_point_of_r1(vector_reference_point):\n",
    "    \"\"\"\n",
    "    :param vector_reference_point : vector from ideal point to reference_point : <np.array>\n",
    "    :return intersection of the vector with the plane S : f1 + f2 + ... + fm = 1 : <np.array>\n",
    "    \"\"\"\n",
    "    t = 1/np.sum(vector_reference_point)\n",
    "    return t * vector_reference_point\n",
    "\n",
    "\n",
    "def get_q_set(vector_mapping_point_r1, epsilon_number, intersections_vectors):\n",
    "    \"\"\"\n",
    "    :param : vector_mapping_point_r1 : intersection of the vector with the plane S : f1 + f2 + ... + fm = 1 : <np.array>\n",
    "    :param : epsilon_number : given <float>\n",
    "    :param : intersections_vectors : Plan intersection with axes : <list<np.arrays>>\n",
    "    :return: decomposed points of R (Q set) : <list<np.array>>\n",
    "    \"\"\"\n",
    "    q = []\n",
    "    for vector in intersections_vectors:\n",
    "        p = vector_mapping_point_r1 + (epsilon_number * (vector - vector_mapping_point_r1))\n",
    "        q.append(p)\n",
    "    q.append(vector_mapping_point_r1)\n",
    "    return q\n",
    "\n",
    "\n"
   ]
  },
  {
   "cell_type": "markdown",
   "id": "2f7038b6",
   "metadata": {},
   "source": [
    "<h1>Step 2: construct a preference_based hyperplane</h1>"
   ]
  },
  {
   "cell_type": "code",
   "execution_count": 3,
   "id": "201304c9",
   "metadata": {},
   "outputs": [],
   "source": [
    "\n",
    "\n",
    "\n",
    "def get_mapping_points_in_second_plane(q_set_list, delta_cte, vector_r1, intersections_axes):\n",
    "    \"\"\"\n",
    "    :param : q_set_list : decomposed points of R (Q set) : <list<np.array>>\n",
    "    :param : delta_cte : given <float>\n",
    "    :param : vector_r1 : intersection of the vector with the plane S : f1 + f2 + ... + fm = 1 : <np.array>\n",
    "    :param : intersection of the vector with the plane S : f1 + f2 + ... + fm = 1 : <np.array>\n",
    "    :return: q_set_points mapped to S'\n",
    "    \"\"\"\n",
    "    q_prime_set = []\n",
    "    for intersection in intersections_axes:\n",
    "        p_prime = (delta_cte * vector_r1 + (delta_cte * epsilon * (intersection - vector_r1)))\n",
    "        q_prime_set.append(p_prime)\n",
    "    q_prime_set.append(delta_cte * vector_r1)\n",
    "    return q_prime_set\n",
    "\n",
    "\n"
   ]
  },
  {
   "cell_type": "markdown",
   "id": "0c9a542d",
   "metadata": {},
   "source": [
    "<h1>Step 3: Calculation of the distances and angles </h1>"
   ]
  },
  {
   "cell_type": "code",
   "execution_count": 4,
   "id": "7ab26057",
   "metadata": {},
   "outputs": [],
   "source": [
    "\n",
    "\n",
    "\n",
    "def get_distance_between_two_vect(vect1, vect2):\n",
    "    \"\"\"\n",
    "    :param : vect1 : vector: <np.array>\n",
    "    :param : vect2 : vector : <np.array>\n",
    "    :return: distance :<float>\n",
    "    \"\"\"\n",
    "    return np.linalg.norm(vect1 - vect2)\n",
    "\n",
    "\n",
    "def unit_vector(vector):\n",
    "    \"\"\"\n",
    "    :param : vector : vector : <np.array>\n",
    "    :return: unit vector : <np.array>\n",
    "    \"\"\"\n",
    "    return vector / np.linalg.norm(vector)\n",
    "\n",
    "\n",
    "def angle_between(vector_1, vector_2):\n",
    "    \"\"\"\n",
    "    :param : vector_1 : vector: <np.array>\n",
    "    :param : vector_2 : vector : <np.array>\n",
    "    :return: angle in rad : <float>\n",
    "    \"\"\"\n",
    "    v1_u = unit_vector(vector_1)\n",
    "    v2_u = unit_vector(vector_2)\n",
    "    return np.arccos(np.clip(np.dot(v1_u, v2_u), -1.0, 1.0))\n",
    "\n",
    "\n",
    "def check_point_in_solutions(calculated_q_set_points, point_to_check, big_number = 1000):\n",
    "    \"\"\"\n",
    "    :param : calculated_q_set_points : q_set_points mapped to S' <list<np.array>>\n",
    "    :param : point_to_check : point to check if it is in the solutions <np.array>\n",
    "    :param : big_number : this number have to be big > than the max{fi} of your individuals <int>\n",
    "    :return: True or False , depending on the point if it is in the solutions (omega) or not \n",
    "    \"\"\"\n",
    "    simplex_on_ideal_point = np.zeros(len(calculated_q_set_points[0]))\n",
    "    vertexes = [element * big_number for element in calculated_q_set_points]\n",
    "    vertexes.append(simplex_on_ideal_point)\n",
    "    last_element_vertexes = vertexes[-1]\n",
    "    a = point_to_check - last_element_vertexes\n",
    "    t_without_transpose = []\n",
    "    for vector in vertexes[:-1]:\n",
    "        t_without_transpose.append(vector - last_element_vertexes)\n",
    "    array_t_transpose = np.array(t_without_transpose).T\n",
    "    reshaped_t_transpose = array_t_transpose.reshape(array_t_transpose.shape[0], array_t_transpose.shape[1])\n",
    "    inverse_t_array = np.linalg.inv(reshaped_t_transpose)\n",
    "    lmbda = np.dot(inverse_t_array, a)\n",
    "    rounded_lambda = np.round(lmbda, 5)\n",
    "    rounded_lambda = np.append(rounded_lambda, [1 - np.sum(rounded_lambda)])\n",
    "    list_boolean = np.all(rounded_lambda >= 0)\n",
    "    if np.sum(rounded_lambda) <= 1 and list_boolean:\n",
    "        return True\n",
    "    else:\n",
    "        return False\n",
    "\n",
    "\n",
    "def get_distances_angles(objectives, second_plane_points, q_set_points):\n",
    "    \"\"\"\n",
    "    :param : objectives : given points <np.arrays>\n",
    "    :param : second_plane_points : q_set_points mapped to S' <list<np.array>>\n",
    "    :return: distances and angles in dictionary\n",
    "    \"\"\"\n",
    "    result = {}\n",
    "    for i, individual in enumerate(objectives):\n",
    "        distances = []\n",
    "        angles = []\n",
    "        for j, point in enumerate(second_plane_points):\n",
    "            distances.append(get_distance_between_two_vect(individual, point))\n",
    "        min_value_index = distances.index(min(distances))\n",
    "        if check_point_in_solutions(q_set_points[:-1], second_plane_points[min_value_index]):\n",
    "            angle = 0\n",
    "        else:\n",
    "            angle = angle_between(second_plane_points[min_value_index], individual)\n",
    "        result[str(i)] = {\"distance\":min(distances), \"angle\": angle}\n",
    "    return result\n",
    "        \n",
    "\n"
   ]
  },
  {
   "cell_type": "markdown",
   "id": "e0ec9c0d",
   "metadata": {},
   "source": [
    "<h1>Step 4: computing the performence metric value by means of the distances and angles</h1>"
   ]
  },
  {
   "cell_type": "code",
   "execution_count": 9,
   "id": "9d93b20b",
   "metadata": {},
   "outputs": [],
   "source": [
    "def get_pmda(delta, reference_point, number_of_objectives, epsilon):\n",
    "\n",
    "\n",
    "    intersections_axes =  intersection_with_axes(number_of_objectives)\n",
    "    q_set_points = get_q_set(get_mapping_point_of_r1(reference_point), epsilon, intersections_axes)\n",
    "    mapping_point_r1 = get_mapping_point_of_r1(reference_point)\n",
    "    q_set = get_q_set(mapping_point_r1, epsilon, intersections_axes)\n",
    "    q_set_prime = get_mapping_points_in_second_plane(q_set, delta, mapping_point_r1, intersections_axes)\n",
    "    distances_and_angles = get_distances_angles(objectives, q_set_prime, q_set_points)\n",
    "    #print(distances_and_angles)\n",
    "    pi = math.pi\n",
    "    sum_sum = 0\n",
    "    for d_a in distances_and_angles:\n",
    "        sum_sum = sum_sum + distances_and_angles[d_a]['distance'] + (distances_and_angles[d_a]['angle'] / pi)\n",
    "    pmda_p = sum_sum / len(distances_and_angles)\n",
    "    return pmda_p"
   ]
  },
  {
   "cell_type": "code",
   "execution_count": 10,
   "id": "f911198e",
   "metadata": {},
   "outputs": [],
   "source": [
    "np.random.seed(42) # this help as to get the same random np.array for the \"given\" reference point \n",
    "number_of_objectives = 5\n",
    "reference_point = np.random.rand(number_of_objectives) # reference point is a given point\n",
    "epsilon = 0.1 \n",
    "delta = 0.01 # delta is a given float\n",
    "objectives = []\n",
    "for number in range(number_of_objectives + 1):\n",
    "    objectives.append(np.random.rand(number_of_objectives))"
   ]
  },
  {
   "cell_type": "code",
   "execution_count": 11,
   "id": "1d39141b",
   "metadata": {},
   "outputs": [
    {
     "data": {
      "text/plain": [
       "1.152583815936246"
      ]
     },
     "execution_count": 11,
     "metadata": {},
     "output_type": "execute_result"
    }
   ],
   "source": [
    "get_pmda(delta, reference_point, number_of_objectives, epsilon)"
   ]
  },
  {
   "cell_type": "code",
   "execution_count": 6,
   "id": "6e2e55f2",
   "metadata": {},
   "outputs": [
    {
     "data": {
      "text/plain": [
       "array([0.37454012, 0.95071431, 0.73199394, 0.59865848, 0.15601864])"
      ]
     },
     "execution_count": 6,
     "metadata": {},
     "output_type": "execute_result"
    }
   ],
   "source": [
    "reference_point"
   ]
  },
  {
   "cell_type": "code",
   "execution_count": null,
   "id": "1f4512d2",
   "metadata": {},
   "outputs": [],
   "source": []
  }
 ],
 "metadata": {
  "kernelspec": {
   "display_name": "Python 3 (ipykernel)",
   "language": "python",
   "name": "python3"
  },
  "language_info": {
   "codemirror_mode": {
    "name": "ipython",
    "version": 3
   },
   "file_extension": ".py",
   "mimetype": "text/x-python",
   "name": "python",
   "nbconvert_exporter": "python",
   "pygments_lexer": "ipython3",
   "version": "3.7.12"
  }
 },
 "nbformat": 4,
 "nbformat_minor": 5
}
