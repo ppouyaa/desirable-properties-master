{
 "cells": [
  {
   "cell_type": "markdown",
   "metadata": {},
   "source": [
    "# DTLZ 2:\n",
    "Here we show that RVEA works better if we have limited function evaluations (5000 in this case) for dtlz ."
   ]
  },
  {
   "cell_type": "markdown",
   "metadata": {},
   "source": [
    "# DTLZ 7\n",
    "Here we show that even tho NSGAIII finds more solutions the few solutions that RVEA finds are better (hopefully have not checked numbers yet)"
   ]
  },
  {
   "cell_type": "markdown",
   "metadata": {},
   "source": [
    "## Optimization process\n"
   ]
  },
  {
   "cell_type": "code",
   "execution_count": 16,
   "metadata": {},
   "outputs": [
    {
     "name": "stdout",
     "output_type": "stream",
     "text": [
      "Running iteration 1\n",
      "Running iteration 2\n",
      "Running iteration 3\n",
      "Running iteration 4\n"
     ]
    }
   ],
   "source": [
    "import numpy as np\n",
    "import pandas as pd\n",
    "import math\n",
    "\n",
    "\n",
    "import random\n",
    "import scipy\n",
    "\n",
    "from desdeo_tools.utilities.pmod import get_pmod\n",
    "from desdeo_tools.utilities.pmda import get_pmda\n",
    "import ehmetric as eh\n",
    "from desdeo_tools.utilities.rmetric import RMetric\n",
    "\n",
    "\n",
    "\n",
    "from sklearn.ensemble import RandomForestClassifier\n",
    "from sklearn.model_selection import train_test_split\n",
    "from desdeo_problem import variable_builder, MOProblem, VectorObjective\n",
    "from desdeo_problem.testproblems.TestProblems import test_problem_builder\n",
    "from sklearn.preprocessing import Normalizer\n",
    "from desdeo_emo.EAs import NSGAIII, RVEA, IOPIS_RVEA, IOPIS_NSGAIII, IBEA\n",
    "\n",
    "from desdeo_emo.utilities import animate_init_, animate_next_\n",
    "\n",
    "refpoints_dtlz2_l = [[0.10, 0.10, 0.94],[0.10, 0.94, 0.10],  [0.94, 0.10, 0.10], [0.7,0.6,0.55] ]\n",
    "refpoints_dtlz2_d = [[0.20, 0.20, 0.85],[0.15, 0.25, 0.83],  [0.18, 0.22, 0.80], [0.23,0.25,0.75] ]\n",
    "refpoints_dtlz3_l = [[21.2, 0.0, 52.9], [4e-32, 3.77, 9.43], [1.26e-32, 0.386, 2.32], [0.172, 0.0, 1.03]]\n",
    "refpoints_dtlz7 = [[0.11, 0.10, 5.4 ],[0.70, 0.14, 4.50],  [0.76, 0.76, 3.5], [0.14, 0.70, 4.5] ]\n",
    "\n",
    "refpoints = refpoints_dtlz7\n",
    "minimization = [True]*3 # for eh-metric\n",
    "rvea_solutions = []\n",
    "nsga_solutions = []\n",
    "RP = []\n",
    "n_interactions = 4\n",
    "n_obj = 3\n",
    "n_var = 8\n",
    "name = \"DTLZ7\"\n",
    "problem = test_problem_builder(\n",
    "    name=name, n_of_objectives=n_obj, n_of_variables=n_var\n",
    "    )\n",
    "evolver_rvea = RVEA(problem, n_gen_per_iter=1000, n_iterations=5, interact=True, total_function_evaluations= 50000000 )#total_function_evaluations= 9000000\n",
    "evolver_nsga = NSGAIII(problem, n_gen_per_iter=1000, n_iterations=5, interact=True, total_function_evaluations= 5000000) #total_function_evaluations= 600000\n",
    "#evolver_nsga.translation_param = 0.3\n",
    "\n",
    "#evolver_nsga = IOPIS_RVEA(problem, n_gen_per_iter=500, n_iterations=1)\n",
    "problem.ideal = np.asarray([0] * n_obj)\n",
    "problem.ideal_fitness = problem.ideal\n",
    "problem.nadir = abs(np.random.normal(size=n_obj, scale=0.15)) + 1\n",
    "\n",
    "non_dominated = evolver_rvea.population.non_dominated_fitness()\n",
    "\n",
    "for i in range(n_interactions):\n",
    "    pref_rvea, plot_rvea = evolver_rvea.requests()\n",
    "    pref_rvea[2].response = pd.DataFrame(\n",
    "    [refpoints[i]], columns=pref_rvea[2].content[\"dimensions_data\"].columns\n",
    "    )\n",
    "    pref_nsga, plot_nsga = evolver_nsga.requests()\n",
    "    pref_nsga[2].response = pd.DataFrame(\n",
    "    [refpoints[i]], columns=pref_nsga[2].content[\"dimensions_data\"].columns\n",
    "    )\n",
    "    print(f\"Running iteration {evolver_rvea._iteration_counter+1}\")\n",
    "    evolver_rvea.iterate(pref_rvea[2])\n",
    "    evolver_nsga.iterate(pref_nsga[2]) #\n",
    "\n",
    "    non_dominated_rvea = evolver_rvea.population.non_dominated_fitness()\n",
    "    rvea_results = evolver_rvea.population.objectives[non_dominated_rvea]\n",
    "    rvea_solutions.append(rvea_results)\n",
    "\n",
    "    non_dominated_nsga = evolver_nsga.population.non_dominated_fitness()\n",
    "    nsga_results = evolver_nsga.population.objectives[non_dominated_nsga]\n",
    "    nsga_solutions.append(nsga_results)\n",
    "    \n",
    "    \n"
   ]
  },
  {
   "cell_type": "markdown",
   "metadata": {},
   "source": [
    "# Visualization"
   ]
  },
  {
   "cell_type": "code",
   "execution_count": 17,
   "metadata": {},
   "outputs": [
    {
     "name": "stdout",
     "output_type": "stream",
     "text": [
      "Plot saved as:  RVEAwDTLZ7.html\n",
      "View the plot by opening the file in browser.\n",
      "To view the plot in Jupyter Notebook, use the IFrame command.\n",
      "Plot saved as:  NSGADTLZ7.html\n",
      "View the plot by opening the file in browser.\n",
      "To view the plot in Jupyter Notebook, use the IFrame command.\n"
     ]
    }
   ],
   "source": [
    "figure_rvea = animate_init_(np.vstack((rvea_solutions[0],[1,1,1],[0,0,0])), filename=\"RVEAw\"+name+\".html\")\n",
    "figure_nsga = animate_init_(np.vstack((nsga_solutions[0],[1,1,1],[0,0,0])), filename=\"NSGA\"+name+\".html\")\n",
    "\n",
    "\n",
    "for i in range(n_interactions-1):\n",
    "    figure_rvea = animate_next_(\n",
    "            np.vstack((rvea_solutions[i+1], [1,1,1],[0,0,0])),\n",
    "            figure_rvea,\n",
    "            filename=\"RVEAw\"+name+\".html\",\n",
    "            generation=i+1,\n",
    "        )\n",
    "    figure_nsga = animate_next_(\n",
    "            np.vstack((nsga_solutions[i+1], [1,1,1],[0,0,0])),\n",
    "            figure_nsga,\n",
    "            filename=\"NSGA\"+name+\".html\",\n",
    "            generation=i+1,\n",
    "        )"
   ]
  },
  {
   "cell_type": "markdown",
   "metadata": {},
   "source": [
    "# Calculating some indicators\n"
   ]
  },
  {
   "cell_type": "code",
   "execution_count": 18,
   "metadata": {},
   "outputs": [
    {
     "name": "stdout",
     "output_type": "stream",
     "text": [
      "this is [RVEA, NSGA] R-metric: [5.927247177416777, 6.66867390126505]\n",
      "this is [RVEA, NSGA] EH-metric: [0.2760380836655655, 0.5611596623735252]\n",
      "this is [RVEA, NSGA] pmod: [6.543197494663459, 7.8877931943452815]\n",
      "this is [RVEA, NSGA] pmda: [4.632570595538658, 5.050253760447804]\n",
      "this is [RVEA, NSGA] R-metric: [5.859375365912599, 6.40113308327709]\n",
      "this is [RVEA, NSGA] EH-metric: [0.5687590881758553, 0.41939656715108586]\n",
      "this is [RVEA, NSGA] pmod: [5.713521760525143, 6.62605315744862]\n",
      "this is [RVEA, NSGA] pmda: [4.247907181694133, 5.091985915159812]\n",
      "this is [RVEA, NSGA] R-metric: [7.30195257200826, 6.488536533865337]\n",
      "this is [RVEA, NSGA] EH-metric: [0.6877447430243327, 0.12130005438302977]\n",
      "this is [RVEA, NSGA] pmod: [5.4181341683346, 5.833147930535961]\n",
      "this is [RVEA, NSGA] pmda: [3.226788332530852, 4.940112136197966]\n",
      "this is [RVEA, NSGA] R-metric: [5.9089147552675385, 2.930107185783777]\n",
      "this is [RVEA, NSGA] EH-metric: [0.4820169139927103, 0.19631767158801477]\n",
      "this is [RVEA, NSGA] pmod: [5.6905721813446775, 6.392334201394614]\n",
      "this is [RVEA, NSGA] pmda: [4.245201191567611, 4.893598468213881]\n"
     ]
    }
   ],
   "source": [
    "for i in range(n_interactions):\n",
    "    \n",
    "\n",
    "    \n",
    "    \n",
    "\n",
    "    #R-metric EH-metric\n",
    "    #normalization\n",
    "    _max = np.max(np.vstack((rvea_solutions[i],nsga_solutions[i], refpoints[i])) , axis= 0)\n",
    "    _min = np.min(np.vstack((rvea_solutions[i],nsga_solutions[i], refpoints[i])) , axis= 0)\n",
    "    norm_rvea = (rvea_solutions[i] - _min)/ (_max - _min)\n",
    "    norm_nsga = (nsga_solutions[i] - _min)/ (_max - _min)\n",
    "    norm_RP = (refpoints[i] - _min)/ (_max - _min)\n",
    "\n",
    "    areas, steps = eh.RunEHMetric([pd.DataFrame(norm_rvea), pd.DataFrame(norm_nsga)], norm_RP, minimization)\n",
    "    \n",
    "    rmetric_rvea = RMetric(problem, norm_RP, delta =0.2).calc(F = norm_rvea, others = norm_nsga)\n",
    "    rmetric_nsga = RMetric(problem, norm_RP, delta = 0.2).calc(F = norm_nsga, others = norm_rvea)\n",
    "    print(\"this is [RVEA, NSGA] R-metric:\", [rmetric_rvea[1], rmetric_nsga[1]])\n",
    "    print(\"this is [RVEA, NSGA] EH-metric:\", areas)\n",
    "    print(\"this is [RVEA, NSGA] pmod:\", [get_pmod(refpoints[i],rvea_solutions[i],0.1,2), get_pmod(refpoints[i],nsga_solutions[i],0.1,2)])\n",
    "    print(\"this is [RVEA, NSGA] pmda:\", [get_pmda(refpoints[i],rvea_solutions[i],3,0.5,0.01), get_pmda(refpoints[i],nsga_solutions[i],3,0.5,0.01)])\n"
   ]
  },
  {
   "cell_type": "code",
   "execution_count": 14,
   "metadata": {},
   "outputs": [],
   "source": [
    "np.savetxt(\"NS_dtlz7_3_in1.csv\",nsga_solutions[0], delimiter=\",\")\n",
    "np.savetxt(\"NS_dtlz7_3_in2.csv\",nsga_solutions[1], delimiter=\",\")\n",
    "np.savetxt(\"NS_dtlz7_3_in3.csv\",nsga_solutions[0], delimiter=\",\")\n",
    "np.savetxt(\"NS_dtlz7_3_in4.csv\",nsga_solutions[1], delimiter=\",\")"
   ]
  },
  {
   "cell_type": "markdown",
   "metadata": {},
   "source": [
    "## PMOD"
   ]
  },
  {
   "cell_type": "code",
   "execution_count": null,
   "metadata": {},
   "outputs": [],
   "source": []
  },
  {
   "cell_type": "markdown",
   "metadata": {},
   "source": [
    "## PMDA"
   ]
  },
  {
   "cell_type": "markdown",
   "metadata": {},
   "source": []
  },
  {
   "cell_type": "code",
   "execution_count": 3,
   "metadata": {},
   "outputs": [
    {
     "ename": "ModuleNotFoundError",
     "evalue": "No module named 'bokeh'",
     "output_type": "error",
     "traceback": [
      "\u001b[0;31m---------------------------------------------------------------------------\u001b[0m",
      "\u001b[0;31mModuleNotFoundError\u001b[0m                       Traceback (most recent call last)",
      "\u001b[0;32m/tmp/ipykernel_148394/4228240988.py\u001b[0m in \u001b[0;36m<module>\u001b[0;34m\u001b[0m\n\u001b[0;32m----> 1\u001b[0;31m \u001b[0;32mfrom\u001b[0m \u001b[0mbokeh\u001b[0m\u001b[0;34m.\u001b[0m\u001b[0mmodels\u001b[0m \u001b[0;32mimport\u001b[0m \u001b[0mColumnDataSource\u001b[0m\u001b[0;34m,\u001b[0m \u001b[0mOpenURL\u001b[0m\u001b[0;34m,\u001b[0m \u001b[0mTapTool\u001b[0m\u001b[0;34m\u001b[0m\u001b[0;34m\u001b[0m\u001b[0m\n\u001b[0m\u001b[1;32m      2\u001b[0m \u001b[0;32mfrom\u001b[0m \u001b[0mbokeh\u001b[0m\u001b[0;34m.\u001b[0m\u001b[0mplotting\u001b[0m \u001b[0;32mimport\u001b[0m \u001b[0mfigure\u001b[0m\u001b[0;34m,\u001b[0m \u001b[0moutput_file\u001b[0m\u001b[0;34m,\u001b[0m \u001b[0mshow\u001b[0m\u001b[0;34m\u001b[0m\u001b[0;34m\u001b[0m\u001b[0m\n\u001b[1;32m      3\u001b[0m \u001b[0;34m\u001b[0m\u001b[0m\n\u001b[1;32m      4\u001b[0m \u001b[0moutput_file\u001b[0m\u001b[0;34m(\u001b[0m\u001b[0;34m\"openurl.html\"\u001b[0m\u001b[0;34m)\u001b[0m\u001b[0;34m\u001b[0m\u001b[0;34m\u001b[0m\u001b[0m\n\u001b[1;32m      5\u001b[0m \u001b[0;34m\u001b[0m\u001b[0m\n",
      "\u001b[0;31mModuleNotFoundError\u001b[0m: No module named 'bokeh'"
     ]
    }
   ],
   "source": []
  },
  {
   "cell_type": "code",
   "execution_count": null,
   "metadata": {},
   "outputs": [],
   "source": []
  }
 ],
 "metadata": {
  "interpreter": {
   "hash": "9fdbf64366ebd3df39fc7d0be047ce2916c7a32355dcda42438e5a33ecbf53d1"
  },
  "kernelspec": {
   "display_name": "ibm",
   "language": "python",
   "name": "python3"
  },
  "language_info": {
   "codemirror_mode": {
    "name": "ipython",
    "version": 3
   },
   "file_extension": ".py",
   "mimetype": "text/x-python",
   "name": "python",
   "nbconvert_exporter": "python",
   "pygments_lexer": "ipython3",
   "version": "3.7.12"
  }
 },
 "nbformat": 4,
 "nbformat_minor": 4
}
