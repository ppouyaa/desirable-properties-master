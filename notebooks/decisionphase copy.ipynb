{
 "cells": [
  {
   "cell_type": "markdown",
   "metadata": {},
   "source": [
    "# DTLZ 2:\n",
    "Here we show that RVEA works better if we have limited function evaluations (5000 in this case) for dtlz ."
   ]
  },
  {
   "cell_type": "markdown",
   "metadata": {},
   "source": [
    "# DTLZ 7\n",
    "Here we show that even tho NSGAIII finds more solutions the few solutions that RVEA finds are better (hopefully have not checked numbers yet)"
   ]
  },
  {
   "cell_type": "markdown",
   "metadata": {},
   "source": [
    "## Optimization process\n"
   ]
  },
  {
   "cell_type": "code",
   "execution_count": 32,
   "metadata": {},
   "outputs": [
    {
     "name": "stdout",
     "output_type": "stream",
     "text": [
      "Running iteration 1\n",
      "Running iteration 2\n",
      "Running iteration 3\n",
      "Running iteration 4\n"
     ]
    }
   ],
   "source": [
    "import numpy as np\n",
    "import pandas as pd\n",
    "import math\n",
    "\n",
    "\n",
    "import random\n",
    "import scipy\n",
    "\n",
    "from desdeo_tools.utilities.pmod import get_pmod\n",
    "from desdeo_tools.utilities.pmda import get_pmda\n",
    "import ehmetric as eh\n",
    "from desdeo_tools.utilities.rmetric import RMetric\n",
    "\n",
    "\n",
    "\n",
    "from sklearn.ensemble import RandomForestClassifier\n",
    "from sklearn.model_selection import train_test_split\n",
    "from desdeo_problem import variable_builder, MOProblem, VectorObjective\n",
    "from desdeo_problem.testproblems.TestProblems import test_problem_builder\n",
    "from sklearn.preprocessing import Normalizer\n",
    "from desdeo_emo.EAs import NSGAIII, RVEA, IOPIS_RVEA, IOPIS_NSGAIII, IBEA\n",
    "\n",
    "from desdeo_emo.utilities import animate_init_, animate_next_\n",
    "\n",
    "refpoints_dtlz2 = [[0.10, 0.10, 0.94],[0.10, 0.94, 0.10],  [0.94, 0.10, 0.10], [0.7,0.6,0.55] ]\n",
    "refpoints_dtlz7 = [[0.70, 0.10, 4.00 ],[0.06, 0.10, 3.2],  [0.05, 0.70, 3.5], [0.80, 0.80, 2.60] ]\n",
    "\n",
    "refpoints = refpoints_dtlz2\n",
    "minimization = [True]*3 # for eh-metric\n",
    "rvea_solutions = []\n",
    "nsga_solutions = []\n",
    "RP = []\n",
    "n_interactions = 4\n",
    "n_obj = 3\n",
    "n_var = 8\n",
    "name = \"DTLZ2\"\n",
    "problem = test_problem_builder(\n",
    "    name=name, n_of_objectives=n_obj, n_of_variables=n_var\n",
    "    )\n",
    "evolver_rvea = RVEA(problem, n_gen_per_iter=50, n_iterations=1, interact=True )#total_function_evaluations= 9000000\n",
    "evolver_nsga = NSGAIII(problem, n_gen_per_iter=50, n_iterations=1, interact=True) #total_function_evaluations= 600000\n",
    "#evolver_nsga.translation_param = 0.3\n",
    "\n",
    "#evolver_nsga = IOPIS_RVEA(problem, n_gen_per_iter=500, n_iterations=1)\n",
    "problem.ideal = np.asarray([0] * n_obj)\n",
    "problem.ideal_fitness = problem.ideal\n",
    "problem.nadir = abs(np.random.normal(size=n_obj, scale=0.15)) + 1\n",
    "\n",
    "non_dominated = evolver_rvea.population.non_dominated_fitness()\n",
    "\n",
    "for i in range(n_interactions):\n",
    "    pref_rvea, plot_rvea = evolver_rvea.requests()\n",
    "    pref_rvea[2].response = pd.DataFrame(\n",
    "    [refpoints[i]], columns=pref_rvea[2].content[\"dimensions_data\"].columns\n",
    "    )\n",
    "    pref_nsga, plot_nsga = evolver_nsga.requests()\n",
    "    pref_nsga[2].response = pd.DataFrame(\n",
    "    [refpoints[i]], columns=pref_nsga[2].content[\"dimensions_data\"].columns\n",
    "    )\n",
    "    print(f\"Running iteration {evolver_rvea._iteration_counter+1}\")\n",
    "    evolver_rvea.iterate(pref_rvea[2])\n",
    "    evolver_nsga.iterate(pref_nsga[2]) #\n",
    "\n",
    "    non_dominated_rvea = evolver_rvea.population.non_dominated_fitness()\n",
    "    rvea_results = evolver_rvea.population.objectives[non_dominated_rvea]\n",
    "    rvea_solutions.append(rvea_results)\n",
    "\n",
    "    non_dominated_nsga = evolver_nsga.population.non_dominated_fitness()\n",
    "    nsga_results = evolver_nsga.population.objectives[non_dominated_nsga]\n",
    "    nsga_solutions.append(nsga_results)\n",
    "    \n",
    "    \n"
   ]
  },
  {
   "cell_type": "markdown",
   "metadata": {},
   "source": [
    "# Visualization"
   ]
  },
  {
   "cell_type": "code",
   "execution_count": 33,
   "metadata": {},
   "outputs": [
    {
     "name": "stdout",
     "output_type": "stream",
     "text": [
      "Plot saved as:  RVEAwDTLZ2.html\n",
      "View the plot by opening the file in browser.\n",
      "To view the plot in Jupyter Notebook, use the IFrame command.\n",
      "Plot saved as:  NSGADTLZ2.html\n",
      "View the plot by opening the file in browser.\n",
      "To view the plot in Jupyter Notebook, use the IFrame command.\n"
     ]
    }
   ],
   "source": [
    "figure_rvea = animate_init_(np.vstack((rvea_solutions[0],[1,1,1],[0,0,0])), filename=\"RVEAw\"+name+\".html\")\n",
    "figure_nsga = animate_init_(np.vstack((nsga_solutions[0],[1,1,1],[0,0,0])), filename=\"NSGA\"+name+\".html\")\n",
    "\n",
    "\n",
    "for i in range(n_interactions-1):\n",
    "    figure_rvea = animate_next_(\n",
    "            np.vstack((rvea_solutions[i+1], [1,1,1],[0,0,0])),\n",
    "            figure_rvea,\n",
    "            filename=\"RVEAw\"+name+\".html\",\n",
    "            generation=i+1,\n",
    "        )\n",
    "    figure_nsga = animate_next_(\n",
    "            np.vstack((nsga_solutions[i+1], [1,1,1],[0,0,0])),\n",
    "            figure_nsga,\n",
    "            filename=\"NSGA\"+name+\".html\",\n",
    "            generation=i+1,\n",
    "        )"
   ]
  },
  {
   "cell_type": "markdown",
   "metadata": {},
   "source": [
    "# Calculating some indicators\n"
   ]
  },
  {
   "cell_type": "code",
   "execution_count": 37,
   "metadata": {},
   "outputs": [
    {
     "name": "stdout",
     "output_type": "stream",
     "text": [
      "this is [RVEA, NSGA] pmod: [20.32474310828537, 30.745720803336923]\n",
      "this is [RVEA, NSGA] pmda: [0.620384007326949, 0.5994900174078085]\n",
      "this is [RVEA, NSGA] EH-metric: [0.7732071579510699, 0.8118029984628999]\n",
      "this is [RVEA, NSGA] R-metric: [8.411764954586706, 8.744689373406386]\n",
      "this is [RVEA, NSGA] pmod: [23.864017000310465, 35.26963913911691]\n",
      "this is [RVEA, NSGA] pmda: [0.6145247659335346, 0.5985656522742909]\n",
      "this is [RVEA, NSGA] EH-metric: [0.7505302026368251, 0.8165223252438842]\n",
      "this is [RVEA, NSGA] R-metric: [7.94805356353462, 8.684241398268828]\n",
      "this is [RVEA, NSGA] pmod: [21.90456117055672, 38.370943919524244]\n",
      "this is [RVEA, NSGA] pmda: [0.6142232070280055, 0.5980365716447347]\n",
      "this is [RVEA, NSGA] EH-metric: [0.7602276448561636, 0.8148339344456919]\n",
      "this is [RVEA, NSGA] R-metric: [7.959376432223174, 8.762577659074548]\n",
      "this is [RVEA, NSGA] pmod: [31.3868615711101, 49.665205848363534]\n",
      "this is [RVEA, NSGA] pmda: [0.7316035228151493, 0.7156954937713653]\n",
      "this is [RVEA, NSGA] EH-metric: [0.5324302911835017, 0.5934323037948146]\n",
      "this is [RVEA, NSGA] R-metric: [9.697905080737737, 9.508024482182075]\n"
     ]
    }
   ],
   "source": [
    "for i in range(n_interactions):\n",
    "    \n",
    "\n",
    "    print(\"this is [RVEA, NSGA] pmod:\", [get_pmod(refpoints[i],rvea_solutions[i],0.1,2), get_pmod(refpoints[i],nsga_solutions[i],0.1,2)])\n",
    "    print(\"this is [RVEA, NSGA] pmda:\", [get_pmda(refpoints[i],rvea_solutions[i],3,0.5,0.01), get_pmda(refpoints[i],nsga_solutions[i],3,0.5,0.01)])\n",
    "    \n",
    "\n",
    "    #R-metric EH-metric\n",
    "    #normalization\n",
    "    _max = np.max(np.vstack((rvea_solutions[i],nsga_solutions[i], refpoints[i])) , axis= 0)\n",
    "    _min = np.min(np.vstack((rvea_solutions[i],nsga_solutions[i], refpoints[i])) , axis= 0)\n",
    "    norm_rvea = (rvea_solutions[i] - _min)/ (_max - _min)\n",
    "    norm_nsga = (nsga_solutions[i] - _min)/ (_max - _min)\n",
    "    norm_RP = (refpoints[i] - _min)/ (_max - _min)\n",
    "\n",
    "    areas, steps = eh.RunEHMetric([pd.DataFrame(norm_rvea), pd.DataFrame(norm_nsga)], norm_RP, minimization)\n",
    "    print(\"this is [RVEA, NSGA] EH-metric:\", areas)\n",
    "    rmetric_rvea = RMetric(problem, norm_RP, delta =0.3).calc(F = norm_rvea, others = norm_nsga)\n",
    "    rmetric_nsga = RMetric(problem, norm_RP, delta = 0.3).calc(F = norm_nsga, others = norm_rvea)\n",
    "    print(\"this is [RVEA, NSGA] R-metric:\", [rmetric_rvea[1], rmetric_nsga[1]])\n"
   ]
  },
  {
   "cell_type": "code",
   "execution_count": 31,
   "metadata": {},
   "outputs": [
    {
     "data": {
      "text/plain": [
       "array([[0.11660326, 0.94001116, 0.30546229],\n",
       "       [0.20227659, 0.95008927, 0.23006777],\n",
       "       [0.1709114 , 0.94746536, 0.25427529],\n",
       "       [0.25013579, 0.93242009, 0.24964023],\n",
       "       [0.10276323, 0.94062322, 0.32186516],\n",
       "       [0.23021089, 0.92072337, 0.31043982],\n",
       "       [0.14014855, 0.96852254, 0.20076512],\n",
       "       [0.16689752, 0.93906766, 0.2857815 ],\n",
       "       [0.2811834 , 0.9349719 , 0.19317044],\n",
       "       [0.20243487, 0.94446421, 0.26067954],\n",
       "       [0.29915434, 0.93229692, 0.22564325],\n",
       "       [0.13479839, 0.94942163, 0.26939343],\n",
       "       [0.2514848 , 0.92993215, 0.28168986],\n",
       "       [0.16511654, 0.93543466, 0.30955145],\n",
       "       [0.31775509, 0.92839894, 0.16526159],\n",
       "       [0.30976647, 0.95541873, 0.1031505 ],\n",
       "       [0.10213517, 0.93223077, 0.355531  ],\n",
       "       [0.19566987, 0.93527923, 0.31578438],\n",
       "       [0.23749029, 0.95491308, 0.16775929],\n",
       "       [0.11579021, 0.97718083, 0.13630432],\n",
       "       [0.13140146, 0.98668057, 0.01581186],\n",
       "       [0.08139509, 0.95668904, 0.27025694],\n",
       "       [0.26018945, 0.94160476, 0.22637859],\n",
       "       [0.11719125, 0.9467946 , 0.28474289],\n",
       "       [0.15262306, 0.97196117, 0.16053501],\n",
       "       [0.18274598, 0.97475389, 0.13748692],\n",
       "       [0.25440658, 0.95992084, 0.14286785],\n",
       "       [0.23565258, 0.94801458, 0.23322949],\n",
       "       [0.27627013, 0.92123184, 0.2538335 ],\n",
       "       [0.1306943 , 0.97529728, 0.1588884 ],\n",
       "       [0.05003269, 0.95431455, 0.29980973],\n",
       "       [0.13367721, 0.97417041, 0.19388144],\n",
       "       [0.106832  , 0.97319412, 0.19854965],\n",
       "       [0.08663027, 0.94655377, 0.30614121],\n",
       "       [0.00886592, 0.07176085, 1.        ],\n",
       "       [0.30670405, 0.94752217, 0.10762334],\n",
       "       [0.27811232, 0.94591757, 0.16840393],\n",
       "       [0.20409459, 0.96672879, 0.10579795],\n",
       "       [0.1403531 , 0.95807421, 0.24894402],\n",
       "       [0.25564755, 0.95944899, 0.10423591],\n",
       "       [0.30443878, 0.93723   , 0.18326187],\n",
       "       [0.27990022, 0.94330562, 0.14153643],\n",
       "       [0.20181031, 0.9677852 , 0.20038143],\n",
       "       [0.17100339, 0.96206304, 0.2255035 ],\n",
       "       [0.1273596 , 0.98462702, 0.10191665],\n",
       "       [0.31076026, 0.94130683, 0.13887711],\n",
       "       [0.07928676, 0.98379688, 0.16668336],\n",
       "       [0.2330077 , 0.93875525, 0.26156374],\n",
       "       [0.15090004, 0.92187488, 0.34989775],\n",
       "       [0.14573048, 0.93659187, 0.31290002],\n",
       "       [0.13760515, 0.93953207, 0.32554268],\n",
       "       [0.11154376, 0.96404369, 0.23337582],\n",
       "       [0.12466476, 0.92315561, 0.34880875],\n",
       "       [0.3187553 , 0.93206696, 0.14176778],\n",
       "       [0.08912847, 0.97531669, 0.22668302],\n",
       "       [0.09102263, 0.99202206, 0.10113042],\n",
       "       [0.31118093, 0.93109992, 0.16408927],\n",
       "       [0.0111551 , 1.        , 0.01650672],\n",
       "       [0.98304311, 0.09903158, 0.13488382],\n",
       "       [0.22336385, 0.92853226, 0.28770341],\n",
       "       [0.16891204, 0.9837132 , 0.11168353],\n",
       "       [0.22731189, 0.97242127, 0.06374217],\n",
       "       [0.23647574, 0.94544125, 0.19660469],\n",
       "       [0.19961643, 0.93166938, 0.28564869],\n",
       "       [0.08303712, 0.96248142, 0.24988024],\n",
       "       [0.10862327, 0.97980765, 0.13413717],\n",
       "       [0.25944261, 0.9475045 , 0.19412738]])"
      ]
     },
     "execution_count": 31,
     "metadata": {},
     "output_type": "execute_result"
    }
   ],
   "source": [
    "norm_rvea"
   ]
  },
  {
   "cell_type": "markdown",
   "metadata": {},
   "source": [
    "## PMOD"
   ]
  },
  {
   "cell_type": "code",
   "execution_count": null,
   "metadata": {},
   "outputs": [],
   "source": []
  },
  {
   "cell_type": "markdown",
   "metadata": {},
   "source": [
    "## PMDA"
   ]
  },
  {
   "cell_type": "markdown",
   "metadata": {},
   "source": []
  },
  {
   "cell_type": "code",
   "execution_count": 3,
   "metadata": {},
   "outputs": [
    {
     "ename": "ModuleNotFoundError",
     "evalue": "No module named 'bokeh'",
     "output_type": "error",
     "traceback": [
      "\u001b[0;31m---------------------------------------------------------------------------\u001b[0m",
      "\u001b[0;31mModuleNotFoundError\u001b[0m                       Traceback (most recent call last)",
      "\u001b[0;32m/tmp/ipykernel_148394/4228240988.py\u001b[0m in \u001b[0;36m<module>\u001b[0;34m\u001b[0m\n\u001b[0;32m----> 1\u001b[0;31m \u001b[0;32mfrom\u001b[0m \u001b[0mbokeh\u001b[0m\u001b[0;34m.\u001b[0m\u001b[0mmodels\u001b[0m \u001b[0;32mimport\u001b[0m \u001b[0mColumnDataSource\u001b[0m\u001b[0;34m,\u001b[0m \u001b[0mOpenURL\u001b[0m\u001b[0;34m,\u001b[0m \u001b[0mTapTool\u001b[0m\u001b[0;34m\u001b[0m\u001b[0;34m\u001b[0m\u001b[0m\n\u001b[0m\u001b[1;32m      2\u001b[0m \u001b[0;32mfrom\u001b[0m \u001b[0mbokeh\u001b[0m\u001b[0;34m.\u001b[0m\u001b[0mplotting\u001b[0m \u001b[0;32mimport\u001b[0m \u001b[0mfigure\u001b[0m\u001b[0;34m,\u001b[0m \u001b[0moutput_file\u001b[0m\u001b[0;34m,\u001b[0m \u001b[0mshow\u001b[0m\u001b[0;34m\u001b[0m\u001b[0;34m\u001b[0m\u001b[0m\n\u001b[1;32m      3\u001b[0m \u001b[0;34m\u001b[0m\u001b[0m\n\u001b[1;32m      4\u001b[0m \u001b[0moutput_file\u001b[0m\u001b[0;34m(\u001b[0m\u001b[0;34m\"openurl.html\"\u001b[0m\u001b[0;34m)\u001b[0m\u001b[0;34m\u001b[0m\u001b[0;34m\u001b[0m\u001b[0m\n\u001b[1;32m      5\u001b[0m \u001b[0;34m\u001b[0m\u001b[0m\n",
      "\u001b[0;31mModuleNotFoundError\u001b[0m: No module named 'bokeh'"
     ]
    }
   ],
   "source": []
  },
  {
   "cell_type": "code",
   "execution_count": null,
   "metadata": {},
   "outputs": [],
   "source": []
  }
 ],
 "metadata": {
  "interpreter": {
   "hash": "9fdbf64366ebd3df39fc7d0be047ce2916c7a32355dcda42438e5a33ecbf53d1"
  },
  "kernelspec": {
   "display_name": "ibm",
   "language": "python",
   "name": "python3"
  },
  "language_info": {
   "codemirror_mode": {
    "name": "ipython",
    "version": 3
   },
   "file_extension": ".py",
   "mimetype": "text/x-python",
   "name": "python",
   "nbconvert_exporter": "python",
   "pygments_lexer": "ipython3",
   "version": "3.7.12"
  }
 },
 "nbformat": 4,
 "nbformat_minor": 4
}
